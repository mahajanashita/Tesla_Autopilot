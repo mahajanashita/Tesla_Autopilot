{
  "nbformat": 4,
  "nbformat_minor": 0,
  "metadata": {
    "colab": {
      "name": "Tesla Autpilot Tutorial.ipynb",
      "provenance": [],
      "collapsed_sections": [],
      "include_colab_link": true
    },
    "kernelspec": {
      "name": "python3",
      "display_name": "Python 3"
    },
    "language_info": {
      "name": "python"
    },
    "accelerator": "TPU"
  },
  "cells": [
    {
      "cell_type": "markdown",
      "metadata": {
        "id": "view-in-github",
        "colab_type": "text"
      },
      "source": [
        "<a href=\"https://colab.research.google.com/github/mahajanashita/Tesla_Autopilot/blob/main/Tesla_Autpilot_Tutorial.ipynb\" target=\"_parent\"><img src=\"https://colab.research.google.com/assets/colab-badge.svg\" alt=\"Open In Colab\"/></a>"
      ]
    },
    {
      "cell_type": "code",
      "metadata": {
        "id": "mQqpcRjjN9qU"
      },
      "source": [
        "import cv2\n",
        "import numpy"
      ],
      "execution_count": null,
      "outputs": []
    },
    {
      "cell_type": "code",
      "metadata": {
        "colab": {
          "base_uri": "https://localhost:8080/"
        },
        "id": "DVNwgSCrOWC-",
        "outputId": "78cbf78b-12d8-4402-8f52-b43a4e07d3ed"
      },
      "source": [
        "!git clone https://github.com/ultralytics/yolov3"
      ],
      "execution_count": null,
      "outputs": [
        {
          "output_type": "stream",
          "text": [
            "fatal: destination path 'yolov3' already exists and is not an empty directory.\n"
          ],
          "name": "stdout"
        }
      ]
    },
    {
      "cell_type": "code",
      "metadata": {
        "colab": {
          "base_uri": "https://localhost:8080/"
        },
        "id": "vaFw4RAtOZQs",
        "outputId": "ad8aafe0-7302-4603-fc82-07ec78e5139e"
      },
      "source": [
        "%cd yolov3/"
      ],
      "execution_count": null,
      "outputs": [
        {
          "output_type": "stream",
          "text": [
            "/content/yolov3\n"
          ],
          "name": "stdout"
        }
      ]
    },
    {
      "cell_type": "code",
      "metadata": {
        "id": "2bZcJUpFOhN5",
        "colab": {
          "base_uri": "https://localhost:8080/"
        },
        "outputId": "3999e812-ff11-4e4a-f240-c5fc66076c19"
      },
      "source": [
        "%pip install -r requirements.txt"
      ],
      "execution_count": null,
      "outputs": [
        {
          "output_type": "stream",
          "text": [
            "Requirement already satisfied: matplotlib>=3.2.2 in /usr/local/lib/python3.7/dist-packages (from -r requirements.txt (line 4)) (3.2.2)\n",
            "Requirement already satisfied: numpy>=1.18.5 in /usr/local/lib/python3.7/dist-packages (from -r requirements.txt (line 5)) (1.19.5)\n",
            "Requirement already satisfied: opencv-python>=4.1.2 in /usr/local/lib/python3.7/dist-packages (from -r requirements.txt (line 6)) (4.1.2.30)\n",
            "Requirement already satisfied: Pillow in /usr/local/lib/python3.7/dist-packages (from -r requirements.txt (line 7)) (7.1.2)\n",
            "Collecting PyYAML>=5.3.1\n",
            "\u001b[?25l  Downloading https://files.pythonhosted.org/packages/7a/a5/393c087efdc78091afa2af9f1378762f9821c9c1d7a22c5753fb5ac5f97a/PyYAML-5.4.1-cp37-cp37m-manylinux1_x86_64.whl (636kB)\n",
            "\u001b[K     |████████████████████████████████| 645kB 5.9MB/s \n",
            "\u001b[?25hRequirement already satisfied: scipy>=1.4.1 in /usr/local/lib/python3.7/dist-packages (from -r requirements.txt (line 9)) (1.4.1)\n",
            "Requirement already satisfied: torch>=1.7.0 in /usr/local/lib/python3.7/dist-packages (from -r requirements.txt (line 10)) (1.9.0+cu102)\n",
            "Requirement already satisfied: torchvision>=0.8.1 in /usr/local/lib/python3.7/dist-packages (from -r requirements.txt (line 11)) (0.10.0+cu102)\n",
            "Requirement already satisfied: tqdm>=4.41.0 in /usr/local/lib/python3.7/dist-packages (from -r requirements.txt (line 12)) (4.41.1)\n",
            "Requirement already satisfied: tensorboard>=2.4.1 in /usr/local/lib/python3.7/dist-packages (from -r requirements.txt (line 15)) (2.5.0)\n",
            "Requirement already satisfied: seaborn>=0.11.0 in /usr/local/lib/python3.7/dist-packages (from -r requirements.txt (line 19)) (0.11.1)\n",
            "Requirement already satisfied: pandas in /usr/local/lib/python3.7/dist-packages (from -r requirements.txt (line 20)) (1.1.5)\n",
            "Requirement already satisfied: pycocotools>=2.0 in /usr/local/lib/python3.7/dist-packages (from -r requirements.txt (line 29)) (2.0.2)\n",
            "Collecting thop\n",
            "  Downloading https://files.pythonhosted.org/packages/6c/8b/22ce44e1c71558161a8bd54471123cc796589c7ebbfc15a7e8932e522f83/thop-0.0.31.post2005241907-py3-none-any.whl\n",
            "Requirement already satisfied: kiwisolver>=1.0.1 in /usr/local/lib/python3.7/dist-packages (from matplotlib>=3.2.2->-r requirements.txt (line 4)) (1.3.1)\n",
            "Requirement already satisfied: pyparsing!=2.0.4,!=2.1.2,!=2.1.6,>=2.0.1 in /usr/local/lib/python3.7/dist-packages (from matplotlib>=3.2.2->-r requirements.txt (line 4)) (2.4.7)\n",
            "Requirement already satisfied: python-dateutil>=2.1 in /usr/local/lib/python3.7/dist-packages (from matplotlib>=3.2.2->-r requirements.txt (line 4)) (2.8.1)\n",
            "Requirement already satisfied: cycler>=0.10 in /usr/local/lib/python3.7/dist-packages (from matplotlib>=3.2.2->-r requirements.txt (line 4)) (0.10.0)\n",
            "Requirement already satisfied: typing-extensions in /usr/local/lib/python3.7/dist-packages (from torch>=1.7.0->-r requirements.txt (line 10)) (3.7.4.3)\n",
            "Requirement already satisfied: google-auth-oauthlib<0.5,>=0.4.1 in /usr/local/lib/python3.7/dist-packages (from tensorboard>=2.4.1->-r requirements.txt (line 15)) (0.4.4)\n",
            "Requirement already satisfied: protobuf>=3.6.0 in /usr/local/lib/python3.7/dist-packages (from tensorboard>=2.4.1->-r requirements.txt (line 15)) (3.12.4)\n",
            "Requirement already satisfied: wheel>=0.26; python_version >= \"3\" in /usr/local/lib/python3.7/dist-packages (from tensorboard>=2.4.1->-r requirements.txt (line 15)) (0.36.2)\n",
            "Requirement already satisfied: absl-py>=0.4 in /usr/local/lib/python3.7/dist-packages (from tensorboard>=2.4.1->-r requirements.txt (line 15)) (0.12.0)\n",
            "Requirement already satisfied: requests<3,>=2.21.0 in /usr/local/lib/python3.7/dist-packages (from tensorboard>=2.4.1->-r requirements.txt (line 15)) (2.23.0)\n",
            "Requirement already satisfied: tensorboard-plugin-wit>=1.6.0 in /usr/local/lib/python3.7/dist-packages (from tensorboard>=2.4.1->-r requirements.txt (line 15)) (1.8.0)\n",
            "Requirement already satisfied: werkzeug>=0.11.15 in /usr/local/lib/python3.7/dist-packages (from tensorboard>=2.4.1->-r requirements.txt (line 15)) (1.0.1)\n",
            "Requirement already satisfied: tensorboard-data-server<0.7.0,>=0.6.0 in /usr/local/lib/python3.7/dist-packages (from tensorboard>=2.4.1->-r requirements.txt (line 15)) (0.6.1)\n",
            "Requirement already satisfied: grpcio>=1.24.3 in /usr/local/lib/python3.7/dist-packages (from tensorboard>=2.4.1->-r requirements.txt (line 15)) (1.34.1)\n",
            "Requirement already satisfied: google-auth<2,>=1.6.3 in /usr/local/lib/python3.7/dist-packages (from tensorboard>=2.4.1->-r requirements.txt (line 15)) (1.31.0)\n",
            "Requirement already satisfied: setuptools>=41.0.0 in /usr/local/lib/python3.7/dist-packages (from tensorboard>=2.4.1->-r requirements.txt (line 15)) (57.0.0)\n",
            "Requirement already satisfied: markdown>=2.6.8 in /usr/local/lib/python3.7/dist-packages (from tensorboard>=2.4.1->-r requirements.txt (line 15)) (3.3.4)\n",
            "Requirement already satisfied: pytz>=2017.2 in /usr/local/lib/python3.7/dist-packages (from pandas->-r requirements.txt (line 20)) (2018.9)\n",
            "Requirement already satisfied: cython>=0.27.3 in /usr/local/lib/python3.7/dist-packages (from pycocotools>=2.0->-r requirements.txt (line 29)) (0.29.23)\n",
            "Requirement already satisfied: six>=1.5 in /usr/local/lib/python3.7/dist-packages (from python-dateutil>=2.1->matplotlib>=3.2.2->-r requirements.txt (line 4)) (1.15.0)\n",
            "Requirement already satisfied: requests-oauthlib>=0.7.0 in /usr/local/lib/python3.7/dist-packages (from google-auth-oauthlib<0.5,>=0.4.1->tensorboard>=2.4.1->-r requirements.txt (line 15)) (1.3.0)\n",
            "Requirement already satisfied: urllib3!=1.25.0,!=1.25.1,<1.26,>=1.21.1 in /usr/local/lib/python3.7/dist-packages (from requests<3,>=2.21.0->tensorboard>=2.4.1->-r requirements.txt (line 15)) (1.24.3)\n",
            "Requirement already satisfied: chardet<4,>=3.0.2 in /usr/local/lib/python3.7/dist-packages (from requests<3,>=2.21.0->tensorboard>=2.4.1->-r requirements.txt (line 15)) (3.0.4)\n",
            "Requirement already satisfied: idna<3,>=2.5 in /usr/local/lib/python3.7/dist-packages (from requests<3,>=2.21.0->tensorboard>=2.4.1->-r requirements.txt (line 15)) (2.10)\n",
            "Requirement already satisfied: certifi>=2017.4.17 in /usr/local/lib/python3.7/dist-packages (from requests<3,>=2.21.0->tensorboard>=2.4.1->-r requirements.txt (line 15)) (2021.5.30)\n",
            "Requirement already satisfied: cachetools<5.0,>=2.0.0 in /usr/local/lib/python3.7/dist-packages (from google-auth<2,>=1.6.3->tensorboard>=2.4.1->-r requirements.txt (line 15)) (4.2.2)\n",
            "Requirement already satisfied: pyasn1-modules>=0.2.1 in /usr/local/lib/python3.7/dist-packages (from google-auth<2,>=1.6.3->tensorboard>=2.4.1->-r requirements.txt (line 15)) (0.2.8)\n",
            "Requirement already satisfied: rsa<5,>=3.1.4; python_version >= \"3.6\" in /usr/local/lib/python3.7/dist-packages (from google-auth<2,>=1.6.3->tensorboard>=2.4.1->-r requirements.txt (line 15)) (4.7.2)\n",
            "Requirement already satisfied: importlib-metadata; python_version < \"3.8\" in /usr/local/lib/python3.7/dist-packages (from markdown>=2.6.8->tensorboard>=2.4.1->-r requirements.txt (line 15)) (4.5.0)\n",
            "Requirement already satisfied: oauthlib>=3.0.0 in /usr/local/lib/python3.7/dist-packages (from requests-oauthlib>=0.7.0->google-auth-oauthlib<0.5,>=0.4.1->tensorboard>=2.4.1->-r requirements.txt (line 15)) (3.1.1)\n",
            "Requirement already satisfied: pyasn1<0.5.0,>=0.4.6 in /usr/local/lib/python3.7/dist-packages (from pyasn1-modules>=0.2.1->google-auth<2,>=1.6.3->tensorboard>=2.4.1->-r requirements.txt (line 15)) (0.4.8)\n",
            "Requirement already satisfied: zipp>=0.5 in /usr/local/lib/python3.7/dist-packages (from importlib-metadata; python_version < \"3.8\"->markdown>=2.6.8->tensorboard>=2.4.1->-r requirements.txt (line 15)) (3.4.1)\n",
            "Installing collected packages: PyYAML, thop\n",
            "  Found existing installation: PyYAML 3.13\n",
            "    Uninstalling PyYAML-3.13:\n",
            "      Successfully uninstalled PyYAML-3.13\n",
            "Successfully installed PyYAML-5.4.1 thop-0.0.31.post2005241907\n"
          ],
          "name": "stdout"
        }
      ]
    },
    {
      "cell_type": "code",
      "metadata": {
        "id": "U1bqN6veOi17"
      },
      "source": [
        "import torch"
      ],
      "execution_count": null,
      "outputs": []
    },
    {
      "cell_type": "code",
      "metadata": {
        "colab": {
          "base_uri": "https://localhost:8080/"
        },
        "id": "UarRx8n7OmoK",
        "outputId": "3d8575e3-0d40-40ef-ad83-0eea965822e1"
      },
      "source": [
        "!python detect.py --source 'car.jpg'"
      ],
      "execution_count": null,
      "outputs": [
        {
          "output_type": "stream",
          "text": [
            "Namespace(agnostic_nms=False, augment=False, classes=None, conf_thres=0.25, device='', exist_ok=False, hide_conf=False, hide_labels=False, img_size=640, iou_thres=0.45, line_thickness=3, max_det=1000, name='exp', nosave=False, project='runs/detect', save_conf=False, save_crop=False, save_txt=False, source='car.jpg', update=False, view_img=False, weights='yolov3.pt')\n",
            "YOLOv3 🚀 v9.5.0-13-g1be3170 torch 1.9.0+cu102 CPU\n",
            "\n",
            "Downloading https://github.com/ultralytics/yolov3/releases/download/v9.5.0/yolov3.pt to yolov3.pt...\n",
            "100% 118M/118M [00:03<00:00, 32.9MB/s]\n",
            "\n",
            "Fusing layers... \n",
            "Model Summary: 261 layers, 61922845 parameters, 0 gradients\n",
            "image 1/1 /content/yolov3/car.jpg: 384x640 1 car, Done. (1.897s)\n",
            "Results saved to runs/detect/exp\n",
            "Done. (2.037s)\n"
          ],
          "name": "stdout"
        }
      ]
    },
    {
      "cell_type": "code",
      "metadata": {
        "id": "IP0jKsdeQ0iE",
        "colab": {
          "base_uri": "https://localhost:8080/"
        },
        "outputId": "bd8fd18c-ae6d-4711-f265-60e3302d89d2"
      },
      "source": [
        "!python detect.py --source 'test.mkv'"
      ],
      "execution_count": null,
      "outputs": [
        {
          "output_type": "stream",
          "text": [
            "Namespace(agnostic_nms=False, augment=False, classes=None, conf_thres=0.25, device='', exist_ok=False, hide_conf=False, hide_labels=False, img_size=640, iou_thres=0.45, line_thickness=3, max_det=1000, name='exp', nosave=False, project='runs/detect', save_conf=False, save_crop=False, save_txt=False, source='test.mkv', update=False, view_img=False, weights='yolov3.pt')\n",
            "YOLOv3 🚀 v9.5.0-13-g1be3170 torch 1.9.0+cu102 CPU\n",
            "\n",
            "Fusing layers... \n",
            "Model Summary: 261 layers, 61922845 parameters, 0 gradients\n",
            "video 1/1 (1/304) /content/yolov3/test.mkv: 384x640 2 persons, 5 cars, Done. (1.758s)\n",
            "video 1/1 (2/304) /content/yolov3/test.mkv: 384x640 2 persons, 5 cars, Done. (1.720s)\n",
            "video 1/1 (3/304) /content/yolov3/test.mkv: 384x640 2 persons, 5 cars, Done. (1.706s)\n",
            "video 1/1 (4/304) /content/yolov3/test.mkv: 384x640 2 persons, 4 cars, 1 truck, Done. (1.696s)\n",
            "video 1/1 (5/304) /content/yolov3/test.mkv: 384x640 2 persons, 4 cars, 1 truck, Done. (1.704s)\n",
            "video 1/1 (6/304) /content/yolov3/test.mkv: 384x640 2 persons, 4 cars, 1 truck, Done. (1.701s)\n",
            "video 1/1 (7/304) /content/yolov3/test.mkv: 384x640 2 persons, 3 cars, 1 truck, Done. (1.690s)\n",
            "video 1/1 (8/304) /content/yolov3/test.mkv: 384x640 2 persons, 4 cars, 1 truck, Done. (1.727s)\n",
            "video 1/1 (9/304) /content/yolov3/test.mkv: 384x640 2 persons, 4 cars, 1 truck, Done. (1.705s)\n",
            "video 1/1 (10/304) /content/yolov3/test.mkv: 384x640 1 person, 4 cars, 1 truck, Done. (1.697s)\n",
            "video 1/1 (11/304) /content/yolov3/test.mkv: 384x640 1 person, 4 cars, 1 truck, Done. (1.675s)\n",
            "video 1/1 (12/304) /content/yolov3/test.mkv: 384x640 1 person, 5 cars, 1 truck, Done. (1.696s)\n",
            "video 1/1 (13/304) /content/yolov3/test.mkv: 384x640 1 person, 5 cars, 1 truck, Done. (1.736s)\n",
            "video 1/1 (14/304) /content/yolov3/test.mkv: 384x640 1 person, 4 cars, 1 truck, Done. (1.734s)\n",
            "video 1/1 (15/304) /content/yolov3/test.mkv: 384x640 1 person, 4 cars, 2 trucks, Done. (1.682s)\n",
            "video 1/1 (16/304) /content/yolov3/test.mkv: 384x640 1 person, 4 cars, 2 trucks, Done. (1.693s)\n",
            "video 1/1 (17/304) /content/yolov3/test.mkv: 384x640 1 person, 5 cars, 1 truck, Done. (1.673s)\n",
            "video 1/1 (18/304) /content/yolov3/test.mkv: 384x640 1 person, 5 cars, 2 trucks, Done. (1.700s)\n",
            "video 1/1 (19/304) /content/yolov3/test.mkv: 384x640 2 persons, 5 cars, 1 truck, Done. (1.686s)\n",
            "video 1/1 (20/304) /content/yolov3/test.mkv: 384x640 2 persons, 5 cars, 1 truck, Done. (1.688s)\n",
            "video 1/1 (21/304) /content/yolov3/test.mkv: 384x640 2 persons, 5 cars, 1 truck, Done. (1.715s)\n",
            "video 1/1 (22/304) /content/yolov3/test.mkv: 384x640 2 persons, 5 cars, 1 truck, Done. (1.676s)\n",
            "video 1/1 (23/304) /content/yolov3/test.mkv: 384x640 2 persons, 5 cars, 1 truck, Done. (1.699s)\n",
            "video 1/1 (24/304) /content/yolov3/test.mkv: 384x640 2 persons, 5 cars, 1 truck, Done. (1.708s)\n",
            "video 1/1 (25/304) /content/yolov3/test.mkv: 384x640 2 persons, 5 cars, 1 truck, Done. (1.720s)\n",
            "video 1/1 (26/304) /content/yolov3/test.mkv: 384x640 2 persons, 5 cars, 1 truck, Done. (1.697s)\n",
            "video 1/1 (27/304) /content/yolov3/test.mkv: 384x640 2 persons, 5 cars, 1 truck, Done. (1.721s)\n",
            "video 1/1 (28/304) /content/yolov3/test.mkv: 384x640 2 persons, 5 cars, 1 truck, Done. (1.665s)\n",
            "video 1/1 (29/304) /content/yolov3/test.mkv: 384x640 2 persons, 6 cars, 1 truck, Done. (1.666s)\n",
            "video 1/1 (30/304) /content/yolov3/test.mkv: 384x640 2 persons, 5 cars, 2 trucks, Done. (1.702s)\n",
            "video 1/1 (31/304) /content/yolov3/test.mkv: 384x640 2 persons, 6 cars, 2 trucks, Done. (1.695s)\n",
            "video 1/1 (32/304) /content/yolov3/test.mkv: 384x640 2 persons, 5 cars, 2 trucks, Done. (1.698s)\n",
            "video 1/1 (33/304) /content/yolov3/test.mkv: 384x640 2 persons, 5 cars, 2 trucks, Done. (1.707s)\n",
            "video 1/1 (34/304) /content/yolov3/test.mkv: 384x640 1 person, 6 cars, 2 trucks, Done. (1.675s)\n",
            "video 1/1 (35/304) /content/yolov3/test.mkv: 384x640 2 persons, 6 cars, 1 truck, Done. (1.689s)\n",
            "video 1/1 (36/304) /content/yolov3/test.mkv: 384x640 2 persons, 7 cars, 1 truck, Done. (1.675s)\n",
            "video 1/1 (37/304) /content/yolov3/test.mkv: 384x640 2 persons, 7 cars, 2 trucks, Done. (1.674s)\n",
            "video 1/1 (38/304) /content/yolov3/test.mkv: 384x640 2 persons, 7 cars, 1 truck, Done. (1.700s)\n",
            "video 1/1 (39/304) /content/yolov3/test.mkv: 384x640 2 persons, 8 cars, 1 truck, Done. (1.695s)\n",
            "video 1/1 (40/304) /content/yolov3/test.mkv: 384x640 2 persons, 8 cars, 2 trucks, Done. (1.677s)\n",
            "video 1/1 (41/304) /content/yolov3/test.mkv: 384x640 2 persons, 8 cars, 1 truck, Done. (1.696s)\n",
            "video 1/1 (42/304) /content/yolov3/test.mkv: 384x640 2 persons, 8 cars, Done. (1.696s)\n",
            "video 1/1 (43/304) /content/yolov3/test.mkv: 384x640 2 persons, 8 cars, Done. (1.682s)\n",
            "video 1/1 (44/304) /content/yolov3/test.mkv: 384x640 2 persons, 8 cars, Done. (1.686s)\n",
            "video 1/1 (45/304) /content/yolov3/test.mkv: 384x640 2 persons, 8 cars, 1 truck, Done. (1.712s)\n",
            "video 1/1 (46/304) /content/yolov3/test.mkv: 384x640 2 persons, 8 cars, Done. (1.684s)\n",
            "video 1/1 (47/304) /content/yolov3/test.mkv: 384x640 2 persons, 8 cars, 1 truck, Done. (1.692s)\n",
            "video 1/1 (48/304) /content/yolov3/test.mkv: 384x640 2 persons, 8 cars, 1 truck, Done. (1.697s)\n",
            "video 1/1 (49/304) /content/yolov3/test.mkv: 384x640 2 persons, 8 cars, 1 truck, Done. (1.703s)\n",
            "video 1/1 (50/304) /content/yolov3/test.mkv: 384x640 2 persons, 8 cars, 2 trucks, Done. (1.689s)\n",
            "video 1/1 (51/304) /content/yolov3/test.mkv: 384x640 2 persons, 7 cars, 2 trucks, Done. (1.685s)\n",
            "video 1/1 (52/304) /content/yolov3/test.mkv: 384x640 2 persons, 8 cars, 1 truck, Done. (1.683s)\n",
            "video 1/1 (53/304) /content/yolov3/test.mkv: 384x640 2 persons, 8 cars, 2 trucks, Done. (1.675s)\n",
            "video 1/1 (54/304) /content/yolov3/test.mkv: 384x640 2 persons, 7 cars, 2 trucks, Done. (1.694s)\n",
            "video 1/1 (55/304) /content/yolov3/test.mkv: 384x640 2 persons, 7 cars, 2 trucks, Done. (1.691s)\n",
            "video 1/1 (56/304) /content/yolov3/test.mkv: 384x640 2 persons, 7 cars, 2 trucks, Done. (1.682s)\n",
            "video 1/1 (57/304) /content/yolov3/test.mkv: 384x640 2 persons, 9 cars, 1 truck, Done. (1.678s)\n",
            "video 1/1 (58/304) /content/yolov3/test.mkv: 384x640 2 persons, 8 cars, 2 trucks, Done. (1.688s)\n",
            "video 1/1 (59/304) /content/yolov3/test.mkv: 384x640 2 persons, 9 cars, 2 trucks, Done. (1.670s)\n",
            "video 1/1 (60/304) /content/yolov3/test.mkv: 384x640 2 persons, 9 cars, 1 truck, Done. (1.686s)\n",
            "video 1/1 (61/304) /content/yolov3/test.mkv: 384x640 2 persons, 9 cars, 1 truck, Done. (1.693s)\n",
            "video 1/1 (62/304) /content/yolov3/test.mkv: 384x640 2 persons, 9 cars, 1 truck, Done. (1.706s)\n",
            "video 1/1 (63/304) /content/yolov3/test.mkv: 384x640 2 persons, 9 cars, 1 truck, Done. (1.679s)\n",
            "video 1/1 (64/304) /content/yolov3/test.mkv: 384x640 2 persons, 8 cars, 1 truck, Done. (1.678s)\n",
            "video 1/1 (65/304) /content/yolov3/test.mkv: 384x640 2 persons, 8 cars, 1 truck, Done. (1.671s)\n",
            "video 1/1 (66/304) /content/yolov3/test.mkv: 384x640 2 persons, 8 cars, 1 truck, Done. (1.673s)\n",
            "video 1/1 (67/304) /content/yolov3/test.mkv: 384x640 2 persons, 7 cars, 1 truck, Done. (1.696s)\n",
            "video 1/1 (68/304) /content/yolov3/test.mkv: 384x640 2 persons, 7 cars, 2 trucks, Done. (1.717s)\n",
            "video 1/1 (69/304) /content/yolov3/test.mkv: 384x640 2 persons, 8 cars, 1 truck, Done. (1.673s)\n",
            "video 1/1 (70/304) /content/yolov3/test.mkv: 384x640 2 persons, 8 cars, 1 truck, Done. (1.659s)\n",
            "video 1/1 (71/304) /content/yolov3/test.mkv: 384x640 2 persons, 7 cars, 1 truck, Done. (1.678s)\n",
            "video 1/1 (72/304) /content/yolov3/test.mkv: 384x640 2 persons, 7 cars, 1 truck, Done. (1.683s)\n",
            "video 1/1 (73/304) /content/yolov3/test.mkv: 384x640 2 persons, 7 cars, 1 truck, Done. (1.684s)\n",
            "video 1/1 (74/304) /content/yolov3/test.mkv: 384x640 2 persons, 7 cars, 1 truck, Done. (1.671s)\n",
            "video 1/1 (75/304) /content/yolov3/test.mkv: 384x640 2 persons, 8 cars, 1 truck, Done. (1.681s)\n",
            "video 1/1 (76/304) /content/yolov3/test.mkv: 384x640 2 persons, 8 cars, 1 truck, Done. (1.683s)\n",
            "video 1/1 (77/304) /content/yolov3/test.mkv: 384x640 2 persons, 8 cars, 1 truck, Done. (1.673s)\n",
            "video 1/1 (78/304) /content/yolov3/test.mkv: 384x640 2 persons, 7 cars, 2 trucks, Done. (1.682s)\n",
            "video 1/1 (79/304) /content/yolov3/test.mkv: 384x640 2 persons, 8 cars, 1 truck, Done. (1.676s)\n",
            "video 1/1 (80/304) /content/yolov3/test.mkv: 384x640 2 persons, 7 cars, 2 trucks, Done. (1.681s)\n",
            "video 1/1 (81/304) /content/yolov3/test.mkv: 384x640 2 persons, 9 cars, Done. (1.669s)\n",
            "video 1/1 (82/304) /content/yolov3/test.mkv: 384x640 2 persons, 9 cars, Done. (1.681s)\n",
            "video 1/1 (83/304) /content/yolov3/test.mkv: 384x640 2 persons, 9 cars, 1 truck, Done. (1.683s)\n",
            "video 1/1 (84/304) /content/yolov3/test.mkv: 384x640 2 persons, 8 cars, Done. (1.715s)\n",
            "video 1/1 (85/304) /content/yolov3/test.mkv: 384x640 2 persons, 8 cars, 1 truck, Done. (1.687s)\n",
            "video 1/1 (86/304) /content/yolov3/test.mkv: 384x640 2 persons, 7 cars, Done. (1.690s)\n",
            "video 1/1 (87/304) /content/yolov3/test.mkv: 384x640 2 persons, 9 cars, 1 truck, Done. (1.676s)\n",
            "video 1/1 (88/304) /content/yolov3/test.mkv: 384x640 2 persons, 9 cars, 1 truck, Done. (1.679s)\n",
            "video 1/1 (89/304) /content/yolov3/test.mkv: 384x640 2 persons, 9 cars, 1 suitcase, Done. (1.680s)\n",
            "video 1/1 (90/304) /content/yolov3/test.mkv: 384x640 2 persons, 9 cars, Done. (1.708s)\n",
            "video 1/1 (91/304) /content/yolov3/test.mkv: 384x640 2 persons, 7 cars, Done. (1.694s)\n",
            "video 1/1 (92/304) /content/yolov3/test.mkv: 384x640 2 persons, 7 cars, Done. (1.678s)\n",
            "video 1/1 (93/304) /content/yolov3/test.mkv: 384x640 2 persons, 7 cars, Done. (1.675s)\n",
            "video 1/1 (94/304) /content/yolov3/test.mkv: 384x640 2 persons, 7 cars, Done. (1.686s)\n",
            "video 1/1 (95/304) /content/yolov3/test.mkv: 384x640 2 persons, 7 cars, Done. (1.674s)\n",
            "video 1/1 (96/304) /content/yolov3/test.mkv: 384x640 2 persons, 7 cars, Done. (1.698s)\n",
            "video 1/1 (97/304) /content/yolov3/test.mkv: 384x640 2 persons, 7 cars, Done. (1.693s)\n",
            "video 1/1 (98/304) /content/yolov3/test.mkv: 384x640 2 persons, 7 cars, Done. (1.714s)\n",
            "video 1/1 (99/304) /content/yolov3/test.mkv: 384x640 2 persons, 7 cars, Done. (1.678s)\n",
            "video 1/1 (100/304) /content/yolov3/test.mkv: 384x640 2 persons, 7 cars, Done. (1.688s)\n",
            "video 1/1 (101/304) /content/yolov3/test.mkv: 384x640 2 persons, 7 cars, Done. (1.687s)\n",
            "video 1/1 (102/304) /content/yolov3/test.mkv: 384x640 2 persons, 6 cars, Done. (1.702s)\n",
            "video 1/1 (103/304) /content/yolov3/test.mkv: 384x640 2 persons, 6 cars, Done. (1.694s)\n",
            "video 1/1 (104/304) /content/yolov3/test.mkv: 384x640 2 persons, 6 cars, Done. (1.698s)\n",
            "video 1/1 (105/304) /content/yolov3/test.mkv: 384x640 2 persons, 7 cars, Done. (1.658s)\n",
            "video 1/1 (106/304) /content/yolov3/test.mkv: 384x640 2 persons, 6 cars, Done. (1.692s)\n",
            "video 1/1 (107/304) /content/yolov3/test.mkv: 384x640 2 persons, 8 cars, Done. (1.676s)\n",
            "video 1/1 (108/304) /content/yolov3/test.mkv: 384x640 2 persons, 8 cars, Done. (1.706s)\n",
            "video 1/1 (109/304) /content/yolov3/test.mkv: 384x640 2 persons, 8 cars, Done. (1.748s)\n",
            "video 1/1 (110/304) /content/yolov3/test.mkv: 384x640 2 persons, 8 cars, Done. (1.687s)\n",
            "video 1/1 (111/304) /content/yolov3/test.mkv: 384x640 2 persons, 8 cars, Done. (1.673s)\n",
            "video 1/1 (112/304) /content/yolov3/test.mkv: 384x640 2 persons, 8 cars, Done. (1.686s)\n",
            "video 1/1 (113/304) /content/yolov3/test.mkv: 384x640 1 person, 8 cars, Done. (1.679s)\n",
            "video 1/1 (114/304) /content/yolov3/test.mkv: 384x640 1 person, 8 cars, Done. (1.698s)\n",
            "video 1/1 (115/304) /content/yolov3/test.mkv: 384x640 1 person, 8 cars, Done. (1.718s)\n",
            "video 1/1 (116/304) /content/yolov3/test.mkv: 384x640 1 person, 8 cars, Done. (1.687s)\n",
            "video 1/1 (117/304) /content/yolov3/test.mkv: 384x640 1 person, 7 cars, Done. (1.664s)\n",
            "video 1/1 (118/304) /content/yolov3/test.mkv: 384x640 1 person, 7 cars, Done. (1.685s)\n",
            "video 1/1 (119/304) /content/yolov3/test.mkv: 384x640 1 person, 7 cars, Done. (1.677s)\n",
            "video 1/1 (120/304) /content/yolov3/test.mkv: 384x640 1 person, 6 cars, Done. (1.682s)\n",
            "video 1/1 (121/304) /content/yolov3/test.mkv: 384x640 1 person, 6 cars, Done. (1.733s)\n",
            "video 1/1 (122/304) /content/yolov3/test.mkv: 384x640 1 person, 6 cars, Done. (1.680s)\n",
            "video 1/1 (123/304) /content/yolov3/test.mkv: 384x640 1 person, 7 cars, Done. (1.670s)\n",
            "video 1/1 (124/304) /content/yolov3/test.mkv: 384x640 1 person, 6 cars, Done. (1.675s)\n",
            "video 1/1 (125/304) /content/yolov3/test.mkv: 384x640 1 person, 6 cars, Done. (1.679s)\n",
            "video 1/1 (126/304) /content/yolov3/test.mkv: 384x640 1 person, 6 cars, Done. (1.685s)\n",
            "video 1/1 (127/304) /content/yolov3/test.mkv: 384x640 1 person, 6 cars, Done. (1.690s)\n",
            "video 1/1 (128/304) /content/yolov3/test.mkv: 384x640 1 person, 6 cars, Done. (1.674s)\n",
            "video 1/1 (129/304) /content/yolov3/test.mkv: 384x640 1 person, 6 cars, Done. (1.689s)\n",
            "video 1/1 (130/304) /content/yolov3/test.mkv: 384x640 1 person, 6 cars, 1 truck, Done. (1.663s)\n",
            "video 1/1 (131/304) /content/yolov3/test.mkv: 384x640 1 person, 6 cars, 1 truck, Done. (1.678s)\n",
            "video 1/1 (132/304) /content/yolov3/test.mkv: 384x640 1 person, 6 cars, 1 truck, Done. (1.691s)\n",
            "video 1/1 (133/304) /content/yolov3/test.mkv: 384x640 1 person, 6 cars, 1 truck, Done. (1.691s)\n",
            "video 1/1 (134/304) /content/yolov3/test.mkv: 384x640 1 person, 6 cars, 1 truck, Done. (1.672s)\n",
            "video 1/1 (135/304) /content/yolov3/test.mkv: 384x640 1 person, 8 cars, 1 truck, Done. (1.675s)\n",
            "video 1/1 (136/304) /content/yolov3/test.mkv: 384x640 1 person, 7 cars, 1 truck, Done. (1.678s)\n",
            "video 1/1 (137/304) /content/yolov3/test.mkv: 384x640 1 person, 8 cars, 1 truck, Done. (1.696s)\n",
            "video 1/1 (138/304) /content/yolov3/test.mkv: 384x640 1 person, 9 cars, Done. (1.708s)\n",
            "video 1/1 (139/304) /content/yolov3/test.mkv: 384x640 1 person, 9 cars, Done. (1.704s)\n",
            "video 1/1 (140/304) /content/yolov3/test.mkv: 384x640 1 person, 9 cars, Done. (1.683s)\n",
            "video 1/1 (141/304) /content/yolov3/test.mkv: 384x640 1 person, 10 cars, Done. (1.695s)\n",
            "video 1/1 (142/304) /content/yolov3/test.mkv: 384x640 1 person, 11 cars, Done. (1.676s)\n",
            "video 1/1 (143/304) /content/yolov3/test.mkv: 384x640 1 person, 11 cars, Done. (1.680s)\n",
            "video 1/1 (144/304) /content/yolov3/test.mkv: 384x640 1 person, 12 cars, Done. (1.719s)\n",
            "video 1/1 (145/304) /content/yolov3/test.mkv: 384x640 1 person, 13 cars, Done. (1.695s)\n",
            "video 1/1 (146/304) /content/yolov3/test.mkv: 384x640 1 person, 13 cars, 1 traffic light, Done. (1.674s)\n",
            "video 1/1 (147/304) /content/yolov3/test.mkv: 384x640 1 person, 12 cars, 1 traffic light, Done. (1.684s)\n",
            "video 1/1 (148/304) /content/yolov3/test.mkv: 384x640 1 person, 12 cars, 2 traffic lights, Done. (1.684s)\n",
            "video 1/1 (149/304) /content/yolov3/test.mkv: 384x640 1 person, 15 cars, 2 traffic lights, Done. (1.687s)\n",
            "video 1/1 (150/304) /content/yolov3/test.mkv: 384x640 1 person, 15 cars, 1 traffic light, Done. (1.684s)\n",
            "video 1/1 (151/304) /content/yolov3/test.mkv: 384x640 1 person, 15 cars, 1 traffic light, Done. (1.689s)\n",
            "video 1/1 (152/304) /content/yolov3/test.mkv: 384x640 1 person, 16 cars, Done. (1.708s)\n",
            "video 1/1 (153/304) /content/yolov3/test.mkv: 384x640 1 person, 16 cars, 1 traffic light, Done. (1.688s)\n",
            "video 1/1 (154/304) /content/yolov3/test.mkv: 384x640 1 person, 16 cars, Done. (1.662s)\n",
            "video 1/1 (155/304) /content/yolov3/test.mkv: 384x640 1 person, 16 cars, 2 traffic lights, Done. (1.692s)\n",
            "video 1/1 (156/304) /content/yolov3/test.mkv: 384x640 1 person, 17 cars, 2 traffic lights, Done. (1.692s)\n",
            "video 1/1 (157/304) /content/yolov3/test.mkv: 384x640 1 person, 17 cars, Done. (1.674s)\n",
            "video 1/1 (158/304) /content/yolov3/test.mkv: 384x640 1 person, 16 cars, 1 traffic light, Done. (1.693s)\n",
            "video 1/1 (159/304) /content/yolov3/test.mkv: 384x640 1 person, 17 cars, 2 traffic lights, Done. (1.677s)\n",
            "video 1/1 (160/304) /content/yolov3/test.mkv: 384x640 1 person, 17 cars, 3 traffic lights, Done. (1.687s)\n",
            "video 1/1 (161/304) /content/yolov3/test.mkv: 384x640 1 person, 15 cars, 1 truck, 1 traffic light, Done. (1.713s)\n",
            "video 1/1 (162/304) /content/yolov3/test.mkv: 384x640 1 person, 16 cars, Done. (1.688s)\n",
            "video 1/1 (163/304) /content/yolov3/test.mkv: 384x640 1 person, 14 cars, Done. (1.670s)\n",
            "video 1/1 (164/304) /content/yolov3/test.mkv: 384x640 1 person, 14 cars, Done. (1.686s)\n",
            "video 1/1 (165/304) /content/yolov3/test.mkv: 384x640 1 person, 14 cars, Done. (1.681s)\n",
            "video 1/1 (166/304) /content/yolov3/test.mkv: 384x640 1 person, 14 cars, Done. (1.702s)\n",
            "video 1/1 (167/304) /content/yolov3/test.mkv: 384x640 1 person, 14 cars, 1 suitcase, Done. (1.684s)\n",
            "video 1/1 (168/304) /content/yolov3/test.mkv: 384x640 1 person, 13 cars, Done. (1.703s)\n",
            "video 1/1 (169/304) /content/yolov3/test.mkv: 384x640 1 person, 13 cars, 1 traffic light, Done. (1.684s)\n",
            "video 1/1 (170/304) /content/yolov3/test.mkv: 384x640 1 person, 13 cars, 1 traffic light, Done. (1.695s)\n",
            "video 1/1 (171/304) /content/yolov3/test.mkv: 384x640 1 person, 15 cars, 1 traffic light, Done. (1.700s)\n",
            "video 1/1 (172/304) /content/yolov3/test.mkv: 384x640 1 person, 15 cars, Done. (1.688s)\n",
            "video 1/1 (173/304) /content/yolov3/test.mkv: 384x640 1 person, 15 cars, 2 traffic lights, Done. (1.694s)\n",
            "video 1/1 (174/304) /content/yolov3/test.mkv: 384x640 1 person, 15 cars, Done. (1.691s)\n",
            "video 1/1 (175/304) /content/yolov3/test.mkv: 384x640 1 person, 14 cars, Done. (1.708s)\n",
            "video 1/1 (176/304) /content/yolov3/test.mkv: 384x640 1 person, 14 cars, 1 traffic light, Done. (1.680s)\n",
            "video 1/1 (177/304) /content/yolov3/test.mkv: 384x640 1 person, 16 cars, 1 traffic light, Done. (1.694s)\n",
            "video 1/1 (178/304) /content/yolov3/test.mkv: 384x640 1 person, 14 cars, 1 truck, 1 traffic light, Done. (1.661s)\n",
            "video 1/1 (179/304) /content/yolov3/test.mkv: 384x640 1 person, 16 cars, 1 bus, 1 traffic light, Done. (1.685s)\n",
            "video 1/1 (180/304) /content/yolov3/test.mkv: 384x640 1 person, 17 cars, 1 bus, 1 truck, 1 traffic light, Done. (1.686s)\n",
            "video 1/1 (181/304) /content/yolov3/test.mkv: 384x640 1 person, 17 cars, 1 bus, 1 traffic light, Done. (1.707s)\n",
            "video 1/1 (182/304) /content/yolov3/test.mkv: 384x640 1 person, 17 cars, 2 buss, Done. (1.697s)\n",
            "video 1/1 (183/304) /content/yolov3/test.mkv: 384x640 1 person, 17 cars, 1 bus, Done. (1.665s)\n",
            "video 1/1 (184/304) /content/yolov3/test.mkv: 384x640 1 person, 16 cars, 1 bus, Done. (1.691s)\n",
            "video 1/1 (185/304) /content/yolov3/test.mkv: 384x640 1 person, 16 cars, 1 bus, Done. (1.761s)\n",
            "video 1/1 (186/304) /content/yolov3/test.mkv: 384x640 1 person, 16 cars, 1 bus, Done. (1.771s)\n",
            "video 1/1 (187/304) /content/yolov3/test.mkv: 384x640 1 person, 16 cars, 1 bus, 1 truck, Done. (1.905s)\n",
            "video 1/1 (188/304) /content/yolov3/test.mkv: 384x640 1 person, 16 cars, 1 bus, 1 truck, Done. (1.742s)\n",
            "video 1/1 (189/304) /content/yolov3/test.mkv: 384x640 1 person, 15 cars, 1 bus, 1 truck, Done. (1.692s)\n",
            "video 1/1 (190/304) /content/yolov3/test.mkv: 384x640 1 person, 14 cars, 2 buss, 1 truck, Done. (1.711s)\n",
            "video 1/1 (191/304) /content/yolov3/test.mkv: 384x640 1 person, 14 cars, 1 bus, 1 truck, Done. (1.697s)\n",
            "video 1/1 (192/304) /content/yolov3/test.mkv: 384x640 1 person, 14 cars, 1 bus, 1 truck, Done. (1.689s)\n",
            "video 1/1 (193/304) /content/yolov3/test.mkv: 384x640 14 cars, 1 bus, 1 truck, Done. (1.680s)\n",
            "video 1/1 (194/304) /content/yolov3/test.mkv: 384x640 14 cars, 1 bus, 1 truck, Done. (1.715s)\n",
            "video 1/1 (195/304) /content/yolov3/test.mkv: 384x640 14 cars, 1 bus, Done. (1.685s)\n",
            "video 1/1 (196/304) /content/yolov3/test.mkv: 384x640 14 cars, 1 bus, Done. (1.678s)\n",
            "video 1/1 (197/304) /content/yolov3/test.mkv: 384x640 15 cars, 1 bus, Done. (1.688s)\n",
            "video 1/1 (198/304) /content/yolov3/test.mkv: 384x640 15 cars, 1 bus, Done. (1.683s)\n",
            "video 1/1 (199/304) /content/yolov3/test.mkv: 384x640 16 cars, 1 bus, 1 traffic light, Done. (1.693s)\n",
            "video 1/1 (200/304) /content/yolov3/test.mkv: 384x640 15 cars, 1 bus, 1 traffic light, Done. (1.700s)\n",
            "video 1/1 (201/304) /content/yolov3/test.mkv: 384x640 15 cars, 1 bus, Done. (1.693s)\n",
            "video 1/1 (202/304) /content/yolov3/test.mkv: 384x640 16 cars, 1 bus, 1 traffic light, Done. (1.686s)\n",
            "video 1/1 (203/304) /content/yolov3/test.mkv: 384x640 16 cars, 1 bus, 1 traffic light, Done. (1.732s)\n",
            "video 1/1 (204/304) /content/yolov3/test.mkv: 384x640 16 cars, 1 bus, 1 traffic light, Done. (1.709s)\n",
            "video 1/1 (205/304) /content/yolov3/test.mkv: 384x640 17 cars, 1 bus, 1 traffic light, Done. (1.712s)\n",
            "video 1/1 (206/304) /content/yolov3/test.mkv: 384x640 17 cars, 2 buss, 2 traffic lights, Done. (1.727s)\n",
            "video 1/1 (207/304) /content/yolov3/test.mkv: 384x640 18 cars, 1 bus, 2 traffic lights, Done. (1.726s)\n",
            "video 1/1 (208/304) /content/yolov3/test.mkv: 384x640 17 cars, 1 bus, 1 traffic light, Done. (1.744s)\n",
            "video 1/1 (209/304) /content/yolov3/test.mkv: 384x640 17 cars, 1 bus, 1 traffic light, Done. (1.706s)\n",
            "video 1/1 (210/304) /content/yolov3/test.mkv: 384x640 18 cars, 1 bus, Done. (1.712s)\n",
            "video 1/1 (211/304) /content/yolov3/test.mkv: 384x640 17 cars, 1 bus, Done. (1.730s)\n",
            "video 1/1 (212/304) /content/yolov3/test.mkv: 384x640 16 cars, 1 bus, Done. (1.720s)\n",
            "video 1/1 (213/304) /content/yolov3/test.mkv: 384x640 17 cars, 1 bus, Done. (1.684s)\n",
            "video 1/1 (214/304) /content/yolov3/test.mkv: 384x640 16 cars, 1 bus, 1 traffic light, Done. (1.718s)\n",
            "video 1/1 (215/304) /content/yolov3/test.mkv: 384x640 16 cars, 1 bus, 1 traffic light, Done. (1.685s)\n",
            "video 1/1 (216/304) /content/yolov3/test.mkv: 384x640 16 cars, 1 bus, 1 traffic light, Done. (1.679s)\n",
            "video 1/1 (217/304) /content/yolov3/test.mkv: 384x640 14 cars, 1 bus, Done. (1.702s)\n",
            "video 1/1 (218/304) /content/yolov3/test.mkv: 384x640 15 cars, 1 bus, 2 traffic lights, Done. (1.703s)\n",
            "video 1/1 (219/304) /content/yolov3/test.mkv: 384x640 16 cars, 1 bus, 3 traffic lights, Done. (1.665s)\n",
            "video 1/1 (220/304) /content/yolov3/test.mkv: 384x640 16 cars, 1 bus, 2 traffic lights, Done. (1.697s)\n",
            "video 1/1 (221/304) /content/yolov3/test.mkv: 384x640 15 cars, 1 bus, 2 traffic lights, Done. (1.692s)\n",
            "video 1/1 (222/304) /content/yolov3/test.mkv: 384x640 16 cars, 1 bus, 1 traffic light, Done. (1.677s)\n",
            "video 1/1 (223/304) /content/yolov3/test.mkv: 384x640 17 cars, 1 bus, Done. (1.698s)\n",
            "video 1/1 (224/304) /content/yolov3/test.mkv: 384x640 18 cars, 1 bus, Done. (1.713s)\n",
            "video 1/1 (225/304) /content/yolov3/test.mkv: 384x640 16 cars, 1 bus, Done. (1.719s)\n",
            "video 1/1 (226/304) /content/yolov3/test.mkv: 384x640 17 cars, 1 bus, 1 traffic light, Done. (1.701s)\n",
            "video 1/1 (227/304) /content/yolov3/test.mkv: 384x640 16 cars, 1 bus, 1 traffic light, Done. (1.685s)\n",
            "video 1/1 (228/304) /content/yolov3/test.mkv: 384x640 16 cars, 1 bus, 1 traffic light, Done. (1.672s)\n",
            "video 1/1 (229/304) /content/yolov3/test.mkv: 384x640 18 cars, 1 bus, 1 traffic light, Done. (1.689s)\n",
            "video 1/1 (230/304) /content/yolov3/test.mkv: 384x640 18 cars, 1 bus, Done. (1.687s)\n",
            "video 1/1 (231/304) /content/yolov3/test.mkv: 384x640 18 cars, 1 bus, 1 traffic light, Done. (1.686s)\n",
            "video 1/1 (232/304) /content/yolov3/test.mkv: 384x640 17 cars, 1 bus, 1 traffic light, Done. (1.671s)\n",
            "video 1/1 (233/304) /content/yolov3/test.mkv: 384x640 21 cars, 1 bus, 1 traffic light, Done. (1.669s)\n",
            "video 1/1 (234/304) /content/yolov3/test.mkv: 384x640 18 cars, 1 bus, 1 traffic light, Done. (1.675s)\n",
            "video 1/1 (235/304) /content/yolov3/test.mkv: 384x640 18 cars, 1 bus, 3 traffic lights, Done. (1.692s)\n",
            "video 1/1 (236/304) /content/yolov3/test.mkv: 384x640 19 cars, 1 bus, Done. (1.736s)\n",
            "video 1/1 (237/304) /content/yolov3/test.mkv: 384x640 18 cars, 1 bus, Done. (1.694s)\n",
            "video 1/1 (238/304) /content/yolov3/test.mkv: 384x640 17 cars, 1 bus, Done. (1.734s)\n",
            "video 1/1 (239/304) /content/yolov3/test.mkv: 384x640 15 cars, 1 bus, 1 traffic light, Done. (1.724s)\n",
            "video 1/1 (240/304) /content/yolov3/test.mkv: 384x640 15 cars, 1 bus, 1 train, Done. (1.699s)\n",
            "video 1/1 (241/304) /content/yolov3/test.mkv: 384x640 17 cars, 1 train, 1 traffic light, Done. (1.687s)\n",
            "video 1/1 (242/304) /content/yolov3/test.mkv: 384x640 16 cars, 1 train, Done. (1.702s)\n",
            "video 1/1 (243/304) /content/yolov3/test.mkv: 384x640 17 cars, 1 bus, 1 train, Done. (1.711s)\n",
            "video 1/1 (244/304) /content/yolov3/test.mkv: 384x640 17 cars, 1 train, 1 traffic light, Done. (1.670s)\n",
            "video 1/1 (245/304) /content/yolov3/test.mkv: 384x640 15 cars, 1 bus, 1 train, 1 traffic light, Done. (1.692s)\n",
            "video 1/1 (246/304) /content/yolov3/test.mkv: 384x640 17 cars, 1 train, 1 traffic light, Done. (1.701s)\n",
            "video 1/1 (247/304) /content/yolov3/test.mkv: 384x640 15 cars, 1 train, Done. (1.674s)\n",
            "video 1/1 (248/304) /content/yolov3/test.mkv: 384x640 15 cars, 1 train, Done. (1.685s)\n",
            "video 1/1 (249/304) /content/yolov3/test.mkv: 384x640 18 cars, 1 train, Done. (1.713s)\n",
            "video 1/1 (250/304) /content/yolov3/test.mkv: 384x640 17 cars, 1 train, Done. (1.699s)\n",
            "video 1/1 (251/304) /content/yolov3/test.mkv: 384x640 16 cars, 1 train, Done. (1.691s)\n",
            "video 1/1 (252/304) /content/yolov3/test.mkv: 384x640 15 cars, 1 train, Done. (1.697s)\n",
            "video 1/1 (253/304) /content/yolov3/test.mkv: 384x640 16 cars, 1 train, Done. (1.688s)\n",
            "video 1/1 (254/304) /content/yolov3/test.mkv: 384x640 16 cars, 1 train, Done. (1.672s)\n",
            "video 1/1 (255/304) /content/yolov3/test.mkv: 384x640 16 cars, 1 train, Done. (1.709s)\n",
            "video 1/1 (256/304) /content/yolov3/test.mkv: 384x640 16 cars, 1 train, Done. (1.701s)\n",
            "video 1/1 (257/304) /content/yolov3/test.mkv: 384x640 17 cars, 1 train, Done. (1.668s)\n",
            "video 1/1 (258/304) /content/yolov3/test.mkv: 384x640 15 cars, 1 train, Done. (1.687s)\n",
            "video 1/1 (259/304) /content/yolov3/test.mkv: 384x640 16 cars, 1 train, Done. (1.682s)\n",
            "video 1/1 (260/304) /content/yolov3/test.mkv: 384x640 16 cars, 1 train, Done. (1.700s)\n",
            "video 1/1 (261/304) /content/yolov3/test.mkv: 384x640 16 cars, 1 train, Done. (1.708s)\n",
            "video 1/1 (262/304) /content/yolov3/test.mkv: 384x640 16 cars, 1 train, Done. (1.712s)\n",
            "video 1/1 (263/304) /content/yolov3/test.mkv: 384x640 16 cars, 1 train, Done. (1.688s)\n",
            "video 1/1 (264/304) /content/yolov3/test.mkv: 384x640 15 cars, 1 train, Done. (1.730s)\n",
            "video 1/1 (265/304) /content/yolov3/test.mkv: 384x640 15 cars, 1 train, Done. (1.724s)\n",
            "video 1/1 (266/304) /content/yolov3/test.mkv: 384x640 16 cars, 1 train, Done. (1.714s)\n",
            "video 1/1 (267/304) /content/yolov3/test.mkv: 384x640 15 cars, 1 train, Done. (1.722s)\n",
            "video 1/1 (268/304) /content/yolov3/test.mkv: 384x640 16 cars, 1 train, Done. (1.699s)\n",
            "video 1/1 (269/304) /content/yolov3/test.mkv: 384x640 15 cars, 1 train, Done. (1.690s)\n",
            "video 1/1 (270/304) /content/yolov3/test.mkv: 384x640 15 cars, 1 train, Done. (1.685s)\n",
            "video 1/1 (271/304) /content/yolov3/test.mkv: 384x640 15 cars, 1 train, Done. (1.708s)\n",
            "video 1/1 (272/304) /content/yolov3/test.mkv: 384x640 16 cars, 1 train, Done. (1.700s)\n",
            "video 1/1 (273/304) /content/yolov3/test.mkv: 384x640 16 cars, 1 train, Done. (1.711s)\n",
            "video 1/1 (274/304) /content/yolov3/test.mkv: 384x640 16 cars, 1 train, Done. (1.694s)\n",
            "video 1/1 (275/304) /content/yolov3/test.mkv: 384x640 15 cars, 1 train, Done. (1.689s)\n",
            "video 1/1 (276/304) /content/yolov3/test.mkv: 384x640 16 cars, 1 train, Done. (1.699s)\n",
            "video 1/1 (277/304) /content/yolov3/test.mkv: 384x640 16 cars, 1 train, Done. (1.707s)\n",
            "video 1/1 (278/304) /content/yolov3/test.mkv: 384x640 17 cars, 1 train, Done. (1.715s)\n",
            "video 1/1 (279/304) /content/yolov3/test.mkv: 384x640 17 cars, 1 train, Done. (1.705s)\n",
            "video 1/1 (280/304) /content/yolov3/test.mkv: 384x640 17 cars, 1 train, Done. (1.705s)\n",
            "video 1/1 (281/304) /content/yolov3/test.mkv: 384x640 18 cars, 1 train, Done. (1.696s)\n",
            "video 1/1 (282/304) /content/yolov3/test.mkv: 384x640 18 cars, 1 train, Done. (1.702s)\n",
            "video 1/1 (283/304) /content/yolov3/test.mkv: 384x640 19 cars, 1 train, Done. (1.681s)\n",
            "video 1/1 (284/304) /content/yolov3/test.mkv: 384x640 19 cars, 1 train, Done. (1.700s)\n",
            "video 1/1 (285/304) /content/yolov3/test.mkv: 384x640 20 cars, 1 train, Done. (1.734s)\n",
            "video 1/1 (286/304) /content/yolov3/test.mkv: 384x640 20 cars, 1 train, Done. (1.679s)\n",
            "video 1/1 (287/304) /content/yolov3/test.mkv: 384x640 20 cars, 1 train, Done. (1.720s)\n",
            "video 1/1 (288/304) /content/yolov3/test.mkv: 384x640 19 cars, 1 train, Done. (1.681s)\n",
            "video 1/1 (289/304) /content/yolov3/test.mkv: 384x640 18 cars, 1 train, Done. (1.688s)\n",
            "video 1/1 (290/304) /content/yolov3/test.mkv: 384x640 18 cars, 1 train, Done. (1.690s)\n",
            "video 1/1 (291/304) /content/yolov3/test.mkv: 384x640 17 cars, 1 train, Done. (1.702s)\n",
            "video 1/1 (292/304) /content/yolov3/test.mkv: 384x640 16 cars, 1 train, Done. (1.680s)\n",
            "video 1/1 (293/304) /content/yolov3/test.mkv: 384x640 17 cars, 1 train, Done. (1.689s)\n",
            "video 1/1 (294/304) /content/yolov3/test.mkv: 384x640 17 cars, 1 train, Done. (1.676s)\n",
            "video 1/1 (295/304) /content/yolov3/test.mkv: 384x640 18 cars, 1 train, Done. (1.706s)\n",
            "video 1/1 (296/304) /content/yolov3/test.mkv: 384x640 17 cars, 1 train, Done. (1.696s)\n",
            "video 1/1 (297/304) /content/yolov3/test.mkv: 384x640 17 cars, 1 train, Done. (1.716s)\n",
            "video 1/1 (298/304) /content/yolov3/test.mkv: 384x640 16 cars, 1 train, Done. (1.677s)\n",
            "video 1/1 (299/304) /content/yolov3/test.mkv: 384x640 16 cars, 1 train, Done. (1.691s)\n",
            "video 1/1 (300/304) /content/yolov3/test.mkv: 384x640 16 cars, 1 train, Done. (1.702s)\n",
            "video 1/1 (301/304) /content/yolov3/test.mkv: 384x640 16 cars, 1 train, Done. (1.699s)\n",
            "Results saved to runs/detect/exp2\n",
            "Done. (514.675s)\n"
          ],
          "name": "stdout"
        }
      ]
    },
    {
      "cell_type": "code",
      "metadata": {
        "id": "v_Kgv_dHUE7z"
      },
      "source": [
        ""
      ],
      "execution_count": null,
      "outputs": []
    },
    {
      "cell_type": "code",
      "metadata": {
        "id": "UZRhFRBqUEzI"
      },
      "source": [
        ""
      ],
      "execution_count": null,
      "outputs": []
    },
    {
      "cell_type": "code",
      "metadata": {
        "id": "alGhqiJ8UEjj"
      },
      "source": [
        ""
      ],
      "execution_count": null,
      "outputs": []
    },
    {
      "cell_type": "code",
      "metadata": {
        "id": "DwUxTkqTRBo5"
      },
      "source": [
        ""
      ],
      "execution_count": null,
      "outputs": []
    }
  ]
}